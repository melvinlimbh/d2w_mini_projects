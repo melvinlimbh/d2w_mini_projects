{
 "cells": [
  {
   "cell_type": "markdown",
   "source": [
    "# Mini Project: Sorting and Evaluating Math Expressions"
   ],
   "metadata": {}
  },
  {
   "cell_type": "markdown",
   "source": [
    "## Week 3"
   ],
   "metadata": {}
  },
  {
   "cell_type": "markdown",
   "source": [
    "**Q1.** *Mergesort:* Modify your `mergesort(array)` function that you did in your cohort session to take one additional argument called `byfunc`, i.e. `mergesort(array, byfunc)`. If the caller does not specify the value of `byfunc`, its default value is `None`. When this argument is `None`, the function `mergesort` behaves similar to your cohort session by sorting the array according to its values. However, when the value of this argument is not `None` but rather some other function, your `mergesort` function should sort the array according to the value returned by this function. \n",
    "\n",
    "For example, instead of sorting an array of integers, we want to sort an array of tupple.\n",
    "```python\n",
    "array = [(1, 2), (3, 2), (2, -1), (4, 7), (-1, -2)]\n",
    "```\n",
    "We can define a function say `select()` as follows:\n",
    "```python\n",
    "def select(item):\n",
    "    return item[0]\n",
    "```\n",
    "\n",
    "You can then should be able to call your `mergesort()` function in the following:\n",
    "```python\n",
    "mergesort(array, select)\n",
    "```\n",
    "which will sort the list of tuples according to the value of its *first* element (recall `item[0]` in `select()`). This means that if you want to sort based on the *second* element of the tuple, you can redefine select as:\n",
    "```python\n",
    "def select(item):\n",
    "    return item[1]\n",
    "```\n",
    "\n",
    "You can also apply this to a list of objects, say `User` class objects.\n",
    "```python\n",
    "array = [<User 1>, <User 2>, <User 3>, ..., <User 101>]\n",
    "```\n",
    "You can define the following `select()` function to sort according to its `username` attribute.\n",
    "```python\n",
    "def select(item):\n",
    "    return item.username\n",
    "```\n",
    "\n",
    "You can then call the `mergesort()` function as follows:\n",
    "```python\n",
    "mergesort(array, select)\n",
    "```\n",
    "\n",
    "Python allows you to write [lambda functions](https://realpython.com/python-lambda/) to replace your `select()` function definition. You can simply call merge sort with the following without defining `select()`.\n",
    "```python\n",
    "mergesort(array, lambda item: item.username)\n",
    "```"
   ],
   "metadata": {}
  },
  {
   "cell_type": "code",
   "execution_count": 4,
   "source": [
    "def mergesort(array, byfunc=None):\r\n",
    "  pass"
   ],
   "outputs": [],
   "metadata": {}
  },
  {
   "cell_type": "code",
   "execution_count": 5,
   "source": [
    "array = [(1, 2), (3, 2), (2, -1), (4, 7), (-1, -2)]\r\n",
    "mergesort(array, lambda item: item[0])\r\n",
    "assert array == [(-1, -2), (1, 2), (2, -1), (3, 2), (4, 7)]\r\n",
    "mergesort(array, lambda item: item[1])\r\n",
    "assert array == [(-1, -2), (2, -1), (1, 2), (3, 2), (4, 7)]"
   ],
   "outputs": [],
   "metadata": {}
  },
  {
   "cell_type": "markdown",
   "source": [
    "**Q2.** Create a class called `EvaluateExpression` to evaluate mathematical expressions for Integers. The class has the following property:\n",
    "- `expression`: which is a property with a get and set method. The set method of this property should check if the string contains any invalid characters. If there is any invalid character, it should set the internal property `expr` to an empty String. Otherwise, it should set the string as it is. Valid characters are: `0123456789+-*/()` and an empty space.\n",
    "- `expr`: which is a property that stores only valid expression. It is used internally to store the expression.\n",
    "\n",
    "During object instantiation, a string can be passed on to `__init__()`.\n",
    "- `__init__(expr)`: where expr is the mathematical expression to initialize the property `expr`. If nothing is provided it should initialize to an empty String. If the string contains other characters besides those in the valid characters list above, the property `expr` should be initialized to an empty string.\n",
    "\n",
    "\n"
   ],
   "metadata": {}
  },
  {
   "cell_type": "code",
   "execution_count": 6,
   "source": [
    "class EvaluateExpression:\r\n",
    "  valid_char = '0123456789+-*/() '\r\n",
    "  def __init__(self, string=\"\"):\r\n",
    "    pass\r\n",
    "\r\n",
    "  @property\r\n",
    "  def expression(self):\r\n",
    "    pass\r\n",
    "\r\n",
    "  @expression.setter\r\n",
    "  def expression(self, new_expr):\r\n",
    "    pass\r\n",
    "\r\n",
    "  "
   ],
   "outputs": [],
   "metadata": {}
  },
  {
   "cell_type": "code",
   "execution_count": 7,
   "source": [
    "expr1 = EvaluateExpression()\r\n",
    "assert expr1.expression == \"\"\r\n",
    "expr2 = EvaluateExpression(\"1 + 2\")\r\n",
    "assert expr2.expression == \"1 + 2\"\r\n",
    "expr2.expression = \"3 * 4\"\r\n",
    "assert expr2.expression == \"3 * 4\"\r\n",
    "expr2.expression = \"3 & 4\"\r\n",
    "assert expr2.expression == \"\""
   ],
   "outputs": [],
   "metadata": {}
  },
  {
   "cell_type": "markdown",
   "source": [
    "**Q3.** The class `EvaluateExpression` also has the following method:\n",
    "- `insert_space()`: which is used to insert one empty space before an operator and another empty space after the operator in the `expression` property. The function should return a new String. Note that this means that if there are two operators side by side, there will be two empty space between them.\n",
    "\n"
   ],
   "metadata": {}
  },
  {
   "cell_type": "code",
   "execution_count": 8,
   "source": [
    "class EvaluateExpression:\r\n",
    "  # copy the other definitions\r\n",
    "  # from the previous parts\r\n",
    "\r\n",
    "  def insert_space(self):\r\n",
    "    pass"
   ],
   "outputs": [],
   "metadata": {}
  },
  {
   "cell_type": "code",
   "execution_count": 9,
   "source": [
    "expr1 = EvaluateExpression(\"(1+2)\")\r\n",
    "assert expr1.insert_space() == \" ( 1 + 2 ) \"\r\n",
    "expr1.expression = \"((1+2)*3/(4-5))\"\r\n",
    "assert expr1.insert_space() == \" (  ( 1 + 2 )  * 3 /  ( 4 - 5 )  ) \"\r\n"
   ],
   "outputs": [],
   "metadata": {}
  },
  {
   "cell_type": "markdown",
   "source": [
    "## Week 4"
   ],
   "metadata": {}
  },
  {
   "cell_type": "markdown",
   "source": [
    "**Q4.** The class `EvaluateExpression` also has the following methods:\n",
    "- `process_operator(operand_stack, operator_stack)`: which process one operator. This method should modify the Stacks provided in the arguments. Note that the division operator `/` should be considered as an integer division for this exercise. This means that you need to use `//` in Python."
   ],
   "metadata": {}
  },
  {
   "cell_type": "code",
   "execution_count": 10,
   "source": [
    "class Stack:\r\n",
    "  pass\r\n"
   ],
   "outputs": [],
   "metadata": {}
  },
  {
   "cell_type": "code",
   "execution_count": 11,
   "source": [
    "class EvaluateExpression:\r\n",
    "  # copy the other definitions\r\n",
    "  # from the previous parts\r\n",
    "\r\n",
    "  def process_operator(self, operand_stack, operator_stack):\r\n",
    "    pass\r\n",
    "\r\n",
    "    \r\n",
    "  "
   ],
   "outputs": [],
   "metadata": {}
  },
  {
   "cell_type": "code",
   "execution_count": 12,
   "source": [
    "expr1 = EvaluateExpression()\r\n",
    "operand_stack = Stack()\r\n",
    "operator_stack = Stack()\r\n",
    "operand_stack.push(3)\r\n",
    "operand_stack.push(4)\r\n",
    "operator_stack.push(\"+\")\r\n",
    "expr1.process_operator(operand_stack, operator_stack)\r\n",
    "assert operand_stack.peek() == 7\r\n",
    "operand_stack.push(5)\r\n",
    "operator_stack.push(\"*\")\r\n",
    "expr1.process_operator(operand_stack, operator_stack)\r\n",
    "assert operand_stack.peek() == 35\r\n",
    "operand_stack.push(30)\r\n",
    "operator_stack.push(\"-\")\r\n",
    "expr1.process_operator(operand_stack, operator_stack)\r\n",
    "assert operand_stack.peek() == 5\r\n",
    "operand_stack.push(2)\r\n",
    "operator_stack.push(\"/\")\r\n",
    "expr1.process_operator(operand_stack, operator_stack)\r\n",
    "assert operand_stack.peek() == 2"
   ],
   "outputs": [],
   "metadata": {}
  },
  {
   "cell_type": "markdown",
   "source": [
    "**Q5.** The class `EvaluateExpression` also has the following methods:\n",
    "- `evaluate()`: which evaluate the mathematical expression contained in the property `expression`. The method should return an Integer. This method contains two processes:\n",
    "    - Phase 1: In this phase, the code scans the expression from left to right to extract operands, operators, and the parentheses.\n",
    "        1. If the extracted character is an operand, push it to `operand_stack`.\n",
    "        1. If the extracted character is + or - operator, process  all the operators at the top of the `operator_stack` and push the extracted operator to `operator_stack`. You should process all the operators as long as the `operator_stack` is not empty and the top of the `operator_stack` is not `(` or `)` symbols.\n",
    "        1. If the extracted character is a `*` or `/` operator, process all the `*` or `/` operators at the top of the `operator_stack` and push the extracted operator to `operator_stack`. \n",
    "        1. If the extracted character is a `(` symbol, push it to `operator_stack`.\n",
    "        1. If the extracted character is a `)` symbol, repeatedly process the operators from the top of `operator_stack` until seeing the `(` symbol on the stack. \n",
    "    - Phase 2: Repeatedly process the operators from the top of `operator_stack` until `operator_stack` is empty.\n"
   ],
   "metadata": {}
  },
  {
   "cell_type": "code",
   "execution_count": 13,
   "source": [
    "class EvaluateExpression:\r\n",
    "  # copy the other definitions\r\n",
    "  # from the previous parts\r\n",
    "\r\n",
    "  def evaluate(self):\r\n",
    "    operand_stack = Stack()\r\n",
    "    operator_stack = Stack()\r\n",
    "    expression = self.insert_space()\r\n",
    "    tokens = expression.split()\r\n",
    "    pass"
   ],
   "outputs": [],
   "metadata": {}
  },
  {
   "cell_type": "code",
   "execution_count": 14,
   "source": [
    "expr1 = EvaluateExpression(\"(1+2)*3\")\r\n",
    "assert expr1.evaluate() == 9\r\n",
    "expr1.expression = \"(1 + 2) * 4 - 3\"\r\n",
    "assert expr1.evaluate() == 9\r\n",
    "expr2 = EvaluateExpression(\"(1+2 *4-  3)* (7/5 * 6)\")\r\n",
    "assert expr2.evaluate() == 36"
   ],
   "outputs": [],
   "metadata": {}
  },
  {
   "cell_type": "code",
   "execution_count": null,
   "source": [],
   "outputs": [],
   "metadata": {}
  }
 ],
 "metadata": {
  "kernelspec": {
   "display_name": "Python 3",
   "language": "python",
   "name": "python3"
  },
  "language_info": {
   "codemirror_mode": {
    "name": "ipython",
    "version": 3
   },
   "file_extension": ".py",
   "mimetype": "text/x-python",
   "name": "python",
   "nbconvert_exporter": "python",
   "pygments_lexer": "ipython3",
   "version": "3.7.4"
  }
 },
 "nbformat": 4,
 "nbformat_minor": 4
}